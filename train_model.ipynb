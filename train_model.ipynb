{
 "cells": [
  {
   "cell_type": "code",
   "execution_count": 1,
   "metadata": {},
   "outputs": [],
   "source": [
    "import pickle\n",
    "import numpy as np\n",
    "import matplotlib.pyplot as plt\n",
    "import torch\n",
    "import torch.nn as nn\n",
    "from torch.autograd import Variable\n",
    "import torch.nn.functional as F\n",
    "import torchvision\n",
    "import torchvision.transforms as transforms\n",
    "from torch.utils.data import Dataset, DataLoader\n",
    "from sklearn.metrics import f1_score, roc_auc_score, roc_curve, auc"
   ]
  },
  {
   "cell_type": "code",
   "execution_count": 2,
   "metadata": {},
   "outputs": [],
   "source": [
    "def fix_seed(random_seed):\n",
    "    \"\"\"\n",
    "    fix random seed\n",
    "    \"\"\"\n",
    "    torch.manual_seed(random_seed)\n",
    "    torch.cuda.manual_seed(random_seed)\n",
    "    torch.cuda.manual_seed_all(random_seed)\n",
    "    torch.backends.cudnn.deterministic = True\n",
    "    torch.backends.cudnn.benchmark = False\n",
    "    np.random.seed(random_seed)"
   ]
  },
  {
   "cell_type": "code",
   "execution_count": 3,
   "metadata": {},
   "outputs": [],
   "source": [
    "device = torch.device(\"cuda\" if torch.cuda.is_available() else 'CPU')"
   ]
  },
  {
   "cell_type": "code",
   "execution_count": 4,
   "metadata": {},
   "outputs": [],
   "source": [
    "with open('data.pkl', 'rb') as f:\n",
    "    vars = pickle.load(f)"
   ]
  },
  {
   "cell_type": "code",
   "execution_count": 5,
   "metadata": {},
   "outputs": [],
   "source": [
    "train_data, val_data, test_data = vars"
   ]
  },
  {
   "cell_type": "code",
   "execution_count": 6,
   "metadata": {},
   "outputs": [],
   "source": [
    "fix_seed(51)"
   ]
  },
  {
   "cell_type": "code",
   "execution_count": 7,
   "metadata": {},
   "outputs": [],
   "source": [
    "cnn_hidden_layers = 5\n",
    "k = 3 #kernel_size\n",
    "dropout_p = 0.1\n",
    "lr = 0.00002\n",
    "batch = 32 #batch_size\n",
    "num_epochs = 30"
   ]
  },
  {
   "cell_type": "code",
   "execution_count": 8,
   "metadata": {},
   "outputs": [],
   "source": [
    "class MyDataset(Dataset):\n",
    "    def __init__(self, data):\n",
    "        self.data = data\n",
    "    \n",
    "    def __len__(self):\n",
    "        return len(self.data)\n",
    "    \n",
    "    def __getitem__(self, idx):\n",
    "        image = self.data[idx][0]\n",
    "        image = torch.from_numpy(np.array(image)).unsqueeze(0).float()\n",
    "        info = torch.tensor(self.data[idx][1:5], dtype = torch.float32)\n",
    "#         label = torch.tensor(self.data[idx][5],dtype = torch.float32)\n",
    "        label = torch.from_numpy(np.array(self.data[idx][5])).unsqueeze(0).float()\n",
    "        \n",
    "        return image, info, label"
   ]
  },
  {
   "cell_type": "code",
   "execution_count": 9,
   "metadata": {},
   "outputs": [],
   "source": [
    "class MyModel(nn.Module):\n",
    "    def __init__(self):\n",
    "        super().__init__()\n",
    "    \n",
    "        self.cnn = nn.Sequential(\n",
    "            nn.Conv2d(1, 32, kernel_size = 3, stride = 1, padding = 1),\n",
    "            nn.LeakyReLU(negative_slope = 0.1, inplace=True),\n",
    "            nn.MaxPool2d(2, 2),\n",
    "\n",
    "            nn.Conv2d(32, 64, kernel_size = 3, stride = 1, padding = 1),\n",
    "            nn.LeakyReLU(negative_slope = 0.1, inplace=True),\n",
    "            nn.MaxPool2d(2, 2),\n",
    "\n",
    "            nn.Conv2d(64, 128, kernel_size = 3, stride = 1, padding = 1),\n",
    "            nn.LeakyReLU(negative_slope = 0.1, inplace=True),\n",
    "            nn.MaxPool2d(2, 2),\n",
    "\n",
    "            nn.Conv2d(128, 256, kernel_size = 3, stride = 1, padding = 1),\n",
    "            nn.LeakyReLU(negative_slope = 0.1, inplace=True),\n",
    "            nn.MaxPool2d(2, 2),\n",
    "            \n",
    "            nn.Conv2d(256, 512, kernel_size = 3, stride = 1, padding = 1),\n",
    "            nn.LeakyReLU(negative_slope = 0.1, inplace=True),\n",
    "            nn.MaxPool2d(2, 2),\n",
    "            \n",
    "            nn.Flatten(),\n",
    "            nn.Linear(512 * 9 * 9, 500),\n",
    "            nn.LeakyReLU(negative_slope = 0.1, inplace=True)\n",
    "        )\n",
    "\n",
    "        self.fcn = nn.Sequential(\n",
    "            nn.Linear(4, 500),\n",
    "            nn.ReLU()\n",
    "        )\n",
    "    \n",
    "#         self.fc = nn.Linear(1000, 1)\n",
    "        self.fc = nn.Sequential(\n",
    "                nn.Linear(1000, 512),\n",
    "                nn.LeakyReLU(negative_slope = 0.1, inplace=True),\n",
    "                nn.Dropout(0.1),\n",
    "                nn.Linear(512, 512),\n",
    "                nn.LeakyReLU(negative_slope = 0.1, inplace=True),\n",
    "                nn.Dropout(dropout_p),\n",
    "                nn.Linear(512, 1)\n",
    "            )\n",
    "    \n",
    "    def forward(self, image, info):\n",
    "        x1 = self.cnn(image)\n",
    "        x2 = self.fcn(info)\n",
    "        x = torch.cat((x1, x2), dim = 1)\n",
    "        x = torch.sigmoid(self.fc(x))\n",
    "        return x"
   ]
  },
  {
   "cell_type": "code",
   "execution_count": 10,
   "metadata": {},
   "outputs": [
    {
     "name": "stdout",
     "output_type": "stream",
     "text": [
      "MyModel(\n",
      "  (cnn): Sequential(\n",
      "    (0): Conv2d(1, 32, kernel_size=(3, 3), stride=(1, 1), padding=(1, 1))\n",
      "    (1): LeakyReLU(negative_slope=0.1, inplace=True)\n",
      "    (2): MaxPool2d(kernel_size=2, stride=2, padding=0, dilation=1, ceil_mode=False)\n",
      "    (3): Conv2d(32, 64, kernel_size=(3, 3), stride=(1, 1), padding=(1, 1))\n",
      "    (4): LeakyReLU(negative_slope=0.1, inplace=True)\n",
      "    (5): MaxPool2d(kernel_size=2, stride=2, padding=0, dilation=1, ceil_mode=False)\n",
      "    (6): Conv2d(64, 128, kernel_size=(3, 3), stride=(1, 1), padding=(1, 1))\n",
      "    (7): LeakyReLU(negative_slope=0.1, inplace=True)\n",
      "    (8): MaxPool2d(kernel_size=2, stride=2, padding=0, dilation=1, ceil_mode=False)\n",
      "    (9): Conv2d(128, 256, kernel_size=(3, 3), stride=(1, 1), padding=(1, 1))\n",
      "    (10): LeakyReLU(negative_slope=0.1, inplace=True)\n",
      "    (11): MaxPool2d(kernel_size=2, stride=2, padding=0, dilation=1, ceil_mode=False)\n",
      "    (12): Conv2d(256, 512, kernel_size=(3, 3), stride=(1, 1), padding=(1, 1))\n",
      "    (13): LeakyReLU(negative_slope=0.1, inplace=True)\n",
      "    (14): MaxPool2d(kernel_size=2, stride=2, padding=0, dilation=1, ceil_mode=False)\n",
      "    (15): Flatten()\n",
      "    (16): Linear(in_features=41472, out_features=500, bias=True)\n",
      "    (17): LeakyReLU(negative_slope=0.1, inplace=True)\n",
      "  )\n",
      "  (fcn): Sequential(\n",
      "    (0): Linear(in_features=4, out_features=500, bias=True)\n",
      "    (1): ReLU()\n",
      "  )\n",
      "  (fc): Sequential(\n",
      "    (0): Linear(in_features=1000, out_features=512, bias=True)\n",
      "    (1): LeakyReLU(negative_slope=0.1, inplace=True)\n",
      "    (2): Dropout(p=0.1, inplace=False)\n",
      "    (3): Linear(in_features=512, out_features=512, bias=True)\n",
      "    (4): LeakyReLU(negative_slope=0.1, inplace=True)\n",
      "    (5): Dropout(p=0.1, inplace=False)\n",
      "    (6): Linear(in_features=512, out_features=1, bias=True)\n",
      "  )\n",
      ")\n"
     ]
    }
   ],
   "source": [
    "model = MyModel()\n",
    "model.to(device)\n",
    "criterion = nn.BCELoss()\n",
    "optimizer = torch.optim.Adam(model.parameters(), lr)\n",
    "print(model)"
   ]
  },
  {
   "cell_type": "code",
   "execution_count": 11,
   "metadata": {},
   "outputs": [],
   "source": [
    "train_loader = DataLoader(MyDataset(train_data), batch_size = batch, shuffle = True)\n",
    "val_loader = DataLoader(MyDataset(val_data), batch_size = batch, shuffle = False)"
   ]
  },
  {
   "cell_type": "code",
   "execution_count": 12,
   "metadata": {},
   "outputs": [
    {
     "name": "stdout",
     "output_type": "stream",
     "text": [
      "Epoch [1/30], Loss:0.7140\n",
      "Validation Loss: 0.644482\n",
      "Epoch [2/30], Loss:0.6778\n",
      "Validation Loss: 0.599497\n",
      "Epoch [3/30], Loss:0.6061\n",
      "Validation Loss: 0.556363\n",
      "Epoch [4/30], Loss:0.5429\n",
      "Validation Loss: 0.530604\n",
      "Epoch [5/30], Loss:0.5298\n",
      "Validation Loss: 0.525312\n",
      "Epoch [6/30], Loss:0.5194\n",
      "Validation Loss: 0.518455\n",
      "Epoch [7/30], Loss:0.5113\n",
      "Validation Loss: 0.543618\n",
      "Epoch [8/30], Loss:0.5035\n",
      "Validation Loss: 0.548299\n",
      "Epoch [9/30], Loss:0.4988\n",
      "Validation Loss: 0.507891\n",
      "Epoch [10/30], Loss:0.4944\n",
      "Validation Loss: 0.547370\n",
      "Epoch [11/30], Loss:0.4823\n",
      "Validation Loss: 0.507435\n",
      "Epoch [12/30], Loss:0.4713\n",
      "Validation Loss: 0.514210\n",
      "Epoch [13/30], Loss:0.4758\n",
      "Validation Loss: 0.518976\n",
      "Epoch [14/30], Loss:0.4645\n",
      "Validation Loss: 0.539262\n",
      "Epoch [15/30], Loss:0.4601\n",
      "Validation Loss: 0.503017\n",
      "Epoch [16/30], Loss:0.4559\n",
      "Validation Loss: 0.506815\n",
      "Epoch [17/30], Loss:0.4486\n",
      "Validation Loss: 0.498868\n",
      "Epoch [18/30], Loss:0.4425\n",
      "Validation Loss: 0.498074\n",
      "Epoch [19/30], Loss:0.4382\n",
      "Validation Loss: 0.495146\n",
      "Epoch [20/30], Loss:0.4384\n",
      "Validation Loss: 0.489764\n",
      "Epoch [21/30], Loss:0.4310\n",
      "Validation Loss: 0.499726\n",
      "Epoch [22/30], Loss:0.4236\n",
      "Validation Loss: 0.497112\n",
      "Epoch [23/30], Loss:0.4171\n",
      "Validation Loss: 0.505326\n",
      "Epoch [24/30], Loss:0.4068\n",
      "Validation Loss: 0.490923\n",
      "Epoch [25/30], Loss:0.4014\n",
      "Validation Loss: 0.510058\n",
      "Epoch [26/30], Loss:0.3978\n",
      "Validation Loss: 0.529293\n",
      "Early stopping...\n"
     ]
    }
   ],
   "source": [
    "best_val_loss = float(\"Inf\")\n",
    "no_improve_epochs = 0\n",
    "early_stop_epochs = 5\n",
    "\n",
    "for epoch in range(num_epochs):\n",
    "    model.train()\n",
    "    running_loss = 0.0\n",
    "    for _, (images, infos, labels) in enumerate(train_loader):\n",
    "        images = images.to(device)\n",
    "        infos = infos.float().to(device)\n",
    "        labels = labels.float().to(device)\n",
    "        \n",
    "        outputs = model(images, infos)\n",
    "        loss = criterion(outputs, labels)\n",
    "        \n",
    "        optimizer.zero_grad()\n",
    "        loss.backward()\n",
    "        optimizer.step()\n",
    "        \n",
    "        running_loss += loss.item()\n",
    "        \n",
    "    epoch_loss = running_loss / len(train_loader)\n",
    "    print(f'Epoch [{epoch+1}/{num_epochs}], Loss:{epoch_loss:.4f}')\n",
    "    \n",
    "    #validation\n",
    "    model.eval()\n",
    "    val_loss = 0.0\n",
    "    with torch.no_grad():\n",
    "        correct = 0\n",
    "        total = 0\n",
    "        for images, infos, labels in val_loader:\n",
    "            images = images.to(device)\n",
    "            infos = infos.float().to(device)\n",
    "            labels = labels.float().to(device)\n",
    "            outputs = model(images, infos)\n",
    "            loss = criterion(outputs, labels)\n",
    "            val_loss += loss.item()\n",
    "        \n",
    "        val_loss = val_loss / len(val_loader)\n",
    "        print(f'Validation Loss: {val_loss:4f}')\n",
    "        \n",
    "    #check for improvement\n",
    "    if val_loss < best_val_loss:\n",
    "        best_val_loss = val_loss\n",
    "        no_improve_epochs = 0\n",
    "        torch.save(model.state_dict(), 'best_model.pt')\n",
    "    else:\n",
    "        no_improve_epochs += 1\n",
    "        \n",
    "    #early stopping\n",
    "    if no_improve_epochs > early_stop_epochs:\n",
    "        print('Early stopping...')\n",
    "        break\n",
    "    \n",
    "        \n",
    "    "
   ]
  },
  {
   "cell_type": "code",
   "execution_count": 13,
   "metadata": {},
   "outputs": [
    {
     "name": "stdout",
     "output_type": "stream",
     "text": [
      "CNN hidden_layers: 5, kernel_size: 3, lr = 0.000020, dropout_p: 0.1, batch_size: 32 \n",
      "\n",
      "Accuracy: 73.38 %\n",
      "F1 score:  0.7294777232251386\n",
      "AUC: 0.8278793321733057\n"
     ]
    }
   ],
   "source": [
    "test_loader = DataLoader(MyDataset(test_data), batch_size = batch, shuffle = False)\n",
    "\n",
    "model.eval()\n",
    "\n",
    "predictions = []\n",
    "probs_list = []\n",
    "labels_list = []\n",
    "\n",
    "correct = 0\n",
    "total = 0\n",
    "\n",
    "\n",
    "with torch.no_grad():\n",
    "    for _, (images, infos, labels) in enumerate(test_loader):\n",
    "        images = images.to(device)\n",
    "        infos = infos.float().to(device)\n",
    "        labels = labels.long().to(device)\n",
    "        \n",
    "        outputs = model(images, infos)\n",
    "        \n",
    "        preds = (outputs > 0.5).long()\n",
    "        \n",
    "        predictions.extend(preds.cpu().numpy())\n",
    "        probs_list.extend(outputs.cpu().numpy())\n",
    "        labels_list.extend(labels.cpu().numpy())\n",
    "        total += labels.size(0)\n",
    "        correct += (preds == labels).sum().item()\n",
    "\n",
    "accuracy = 100 * correct / total\n",
    "f1 = f1_score(labels_list, predictions, average = 'macro')\n",
    "auc_score = roc_auc_score(labels_list, probs_list)\n",
    "\n",
    "print('CNN hidden_layers: %d, kernel_size: %d, lr = %f, dropout_p: %.1f, batch_size: %d \\n' %(cnn_hidden_layers, k, lr, dropout_p, batch))\n",
    "\n",
    "print('Accuracy: %.2f %%' %accuracy)\n",
    "print('F1 score: ', f1)\n",
    "print('AUC:', auc_score)"
   ]
  },
  {
   "cell_type": "code",
   "execution_count": 14,
   "metadata": {},
   "outputs": [
    {
     "data": {
      "image/png": "[encoded data removed]",
      "text/plain": [
       "<Figure size 432x288 with 1 Axes>"
      ]
     },
     "metadata": {},
     "output_type": "display_data"
    }
   ],
   "source": [
    "import sklearn.metrics as metrics\n",
    "fpr, tpr, _ = roc_curve(labels_list, probs_list)\n",
    "roc_auc = metrics.auc(fpr, tpr)\n",
    "\n",
    "plt.figure()\n",
    "lw = 2\n",
    "plt.plot(fpr, tpr, color='darkorange', lw=lw, label='ROC curve (area = %0.2f)' % roc_auc)\n",
    "plt.plot([0, 1], [0, 1], color='navy', lw=lw, linestyle='--')\n",
    "plt.xlim([0.0, 1.0])\n",
    "plt.ylim([0.0, 1.05])\n",
    "plt.xlabel('False Positive Rate')\n",
    "plt.ylabel('True Positive Rate')\n",
    "plt.title('Receiver Operating Characteristic')\n",
    "plt.legend(loc=\"lower right\")\n",
    "plt.show()"
   ]
  }
 ],
 "metadata": {
  "kernelspec": {
   "display_name": "Python 3",
   "language": "python",
   "name": "python3"
  },
  "language_info": {
   "codemirror_mode": {
    "name": "ipython",
    "version": 3
   },
   "file_extension": ".py",
   "mimetype": "text/x-python",
   "name": "python",
   "nbconvert_exporter": "python",
   "pygments_lexer": "ipython3",
   "version": "3.6.13"
  }
 },
 "nbformat": 4,
 "nbformat_minor": 2
}
