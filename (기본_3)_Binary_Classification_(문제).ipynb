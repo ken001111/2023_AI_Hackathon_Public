{
  "cells": [
    {
      "cell_type": "markdown",
      "metadata": {
        "id": "view-in-github",
        "colab_type": "text"
      },
      "source": [
        "<a href=\"https://colab.research.google.com/github/ken001111/2023_AI_Hackathon_Public/blob/main/(%EA%B8%B0%EB%B3%B8_3)_Binary_Classification_(%EB%AC%B8%EC%A0%9C).ipynb\" target=\"_parent\"><img src=\"https://colab.research.google.com/assets/colab-badge.svg\" alt=\"Open In Colab\"/></a>"
      ]
    },
    {
      "cell_type": "markdown",
      "metadata": {
        "id": "69cqV2sUGXpR"
      },
      "source": [
        "## **Logistic Regression 과제 답안**\n",
        "---"
      ]
    },
    {
      "cell_type": "markdown",
      "metadata": {
        "id": "-NFgIT2xqMtq"
      },
      "source": [
        "### **1) 과제 개요**\n",
        "\n",
        "- pytorch를 이용하여 Cars - Purchase Decision 데이터에 대해 차량 구매 여부를 예측하는 로지스틱 회귀 분석을 시행합니다."
      ]
    },
    {
      "cell_type": "markdown",
      "metadata": {
        "id": "vduPFrhcrT-T"
      },
      "source": [
        "### **2) 실습 진행 목적 및 배경**\n",
        "\n",
        "- pytorch를 이용하여 로지스틱 회귀 분석을 위한 모델을 구축하고, 로지스틱 회귀 분석을 실시하는 방법을 공부합니다.\n",
        "\n",
        "- 데이터에 맞는 데이터셋 클래스를 구축함으로써 재사용이 수월한 코드를 작성하는 방법을 공부합니다."
      ]
    },
    {
      "cell_type": "markdown",
      "metadata": {
        "id": "6k7IOFYAuKht"
      },
      "source": [
        "### **3) 실습 수행으로 얻어갈 수 있는 역량**\n",
        "\n",
        "- 로지스틱 회귀 분석에 필요한 pytorch 구성 요소들을 구현할 수 있다.\n",
        "\n",
        "- 실제 데이터에 대해 로지스틱 회귀 분석을 실시할 수 있다.\n",
        "\n",
        "- 주어진 데이터셋에 맞는 Dataset 클래스를 작성할 수 있다."
      ]
    },
    {
      "cell_type": "markdown",
      "metadata": {
        "id": "oi8nWam1GXpT"
      },
      "source": [
        "### **4) 과제 핵심 내용**\n",
        "- Cars - Purchase Decision 데이터에 맞는 pytorch Dataset 클래스를 작성합니다.\n",
        "\n",
        "- 로지스틱 회귀 모델을 pytorch로 구현하고, 이를 학습시킵니다.\n",
        "\n",
        "- 머신러닝을 통해 얻은 모델과 통계적인 방법으로 얻은 모델의 성능을 비교합니다."
      ]
    },
    {
      "cell_type": "markdown",
      "metadata": {
        "id": "TfdxdMbwuMCJ"
      },
      "source": [
        "### **5) 데이터셋 개요 및 저작권 정보**\n",
        "\n",
        "- 사용 데이터셋: [Cars - Purchase Decision Dataset](https://www.kaggle.com/datasets/gabrielsantello/cars-purchase-decision-dataset)\n",
        "  - 차 구매를 고민하고 있는 1000명의 고객에 대한 성별, 나이, 연봉, 그리고 구매 여부가 담긴 데이터\n",
        "- 저작권 정보: [CC0 1.0 Universal](https://creativecommons.org/publicdomain/zero/1.0/)"
      ]
    },
    {
      "cell_type": "code",
      "source": [
        "from google.colab import drive\n",
        "drive.mount('/content/drive')"
      ],
      "metadata": {
        "id": "VUT1fuflqM3Y",
        "outputId": "d56eb53b-e133-44b5-a604-a628f9b75f1a",
        "colab": {
          "base_uri": "https://localhost:8080/"
        }
      },
      "execution_count": 1,
      "outputs": [
        {
          "output_type": "stream",
          "name": "stdout",
          "text": [
            "Mounted at /content/drive\n"
          ]
        }
      ]
    },
    {
      "cell_type": "markdown",
      "metadata": {
        "id": "fAgkYvFqudrU"
      },
      "source": [
        "### **6) Required Package**\n",
        "\n",
        "```python\n",
        "scikit-learn >= 1.4.2\n",
        "torch >= 2.3.0\n",
        "pandas >= 2.2.2\n",
        "numpy >= 1.26.4\n",
        "```"
      ]
    },
    {
      "cell_type": "markdown",
      "metadata": {
        "id": "T7Ub3q7BGXpT"
      },
      "source": [
        "---\n",
        "### **과제 진행 방법**\n",
        "`[CODE START]`와 `[CODE END]` 사이의 코드들을 완성하는 것을 목표로 합니다."
      ]
    },
    {
      "cell_type": "markdown",
      "metadata": {
        "id": "3CzxdbqxaZMR"
      },
      "source": [
        "---\n",
        "## **Cars - Purchase Decision Dataset을 위한 pytorch Dataset 클래스 작성하기**"
      ]
    },
    {
      "cell_type": "markdown",
      "metadata": {
        "id": "kYv_TYoZGXpT"
      },
      "source": [
        "#### 문제 1. 데이터셋 개요에 첨부된 링크에서 데이터를 다운받고, 해당 데이터셋을 다루는 Dataset 클래스를 작성하세요.\n",
        "1.1 `__init__` 함수를 완성하세요.\n",
        "\n",
        "- file_path에 해당하는 파일을 읽어 변수 `data`에 저장하세요. (힌트: pandas 라이브러리의 read_csv 함수를 사용하세요.)\n",
        "\n",
        "- 주어진 데이터에서 *User ID*와 *Purchased* 열을 제외한 데이터를 변수 `X`에 저장하고, *Purchased* 열을 변수 `y`에 저장하세요.\n",
        "\n",
        "- 랜덤하게 학습용과 평가용으로 나눈 데이터 중에서 `mode` 인자로 들어온 값에 따라 Float Tensor 타입으로 변환 후에 각각 인스턴스 변수 `X`와 `y`에 저장하세요.\n",
        "\n",
        "1.2 `__len__` 함수를 완성하세요.\n",
        "\n",
        "- 해당 함수가 데이터의 개수를 반환하도록 작성하세요.\n",
        "\n",
        "1.3 `__getitem__` 함수를 완성하세요.\n",
        "\n",
        "- 주어진 인덱스에 맞는 예측변수와 종속변수 값을 tuple 형태로 반환하도록 작성하세요.\n",
        "\n",
        "- 편의를 위해 종속변수의 차원이 0차원이 아닌, 1차원이 되도록 작성하세요."
      ]
    },
    {
      "cell_type": "code",
      "source": [
        "import pandas as pd\n",
        "import torch\n",
        "from torch.utils.data import Dataset\n",
        "from sklearn.preprocessing import StandardScaler\n",
        "from sklearn.model_selection import train_test_split"
      ],
      "metadata": {
        "id": "hRT3oBSZvKSn"
      },
      "execution_count": 14,
      "outputs": []
    },
    {
      "cell_type": "code",
      "source": [
        "data = pd.read_csv(\"car_data.csv\", sep=\",\", header = 0)\n",
        "data.head()"
      ],
      "metadata": {
        "id": "iygOqNhfvLhc",
        "outputId": "8b876500-7ad9-41b4-db45-cb93dbe7acce",
        "colab": {
          "base_uri": "https://localhost:8080/",
          "height": 206
        }
      },
      "execution_count": 17,
      "outputs": [
        {
          "output_type": "execute_result",
          "data": {
            "text/plain": [
              "   User ID Gender  Age  AnnualSalary  Purchased\n",
              "0      385   Male   35         20000          0\n",
              "1      681   Male   40         43500          0\n",
              "2      353   Male   49         74000          0\n",
              "3      895   Male   40        107500          1\n",
              "4      661   Male   25         79000          0"
            ],
            "text/html": [
              "\n",
              "  <div id=\"df-04528e05-46bd-4e24-9be1-b3cd98459da1\" class=\"colab-df-container\">\n",
              "    <div>\n",
              "<style scoped>\n",
              "    .dataframe tbody tr th:only-of-type {\n",
              "        vertical-align: middle;\n",
              "    }\n",
              "\n",
              "    .dataframe tbody tr th {\n",
              "        vertical-align: top;\n",
              "    }\n",
              "\n",
              "    .dataframe thead th {\n",
              "        text-align: right;\n",
              "    }\n",
              "</style>\n",
              "<table border=\"1\" class=\"dataframe\">\n",
              "  <thead>\n",
              "    <tr style=\"text-align: right;\">\n",
              "      <th></th>\n",
              "      <th>User ID</th>\n",
              "      <th>Gender</th>\n",
              "      <th>Age</th>\n",
              "      <th>AnnualSalary</th>\n",
              "      <th>Purchased</th>\n",
              "    </tr>\n",
              "  </thead>\n",
              "  <tbody>\n",
              "    <tr>\n",
              "      <th>0</th>\n",
              "      <td>385</td>\n",
              "      <td>Male</td>\n",
              "      <td>35</td>\n",
              "      <td>20000</td>\n",
              "      <td>0</td>\n",
              "    </tr>\n",
              "    <tr>\n",
              "      <th>1</th>\n",
              "      <td>681</td>\n",
              "      <td>Male</td>\n",
              "      <td>40</td>\n",
              "      <td>43500</td>\n",
              "      <td>0</td>\n",
              "    </tr>\n",
              "    <tr>\n",
              "      <th>2</th>\n",
              "      <td>353</td>\n",
              "      <td>Male</td>\n",
              "      <td>49</td>\n",
              "      <td>74000</td>\n",
              "      <td>0</td>\n",
              "    </tr>\n",
              "    <tr>\n",
              "      <th>3</th>\n",
              "      <td>895</td>\n",
              "      <td>Male</td>\n",
              "      <td>40</td>\n",
              "      <td>107500</td>\n",
              "      <td>1</td>\n",
              "    </tr>\n",
              "    <tr>\n",
              "      <th>4</th>\n",
              "      <td>661</td>\n",
              "      <td>Male</td>\n",
              "      <td>25</td>\n",
              "      <td>79000</td>\n",
              "      <td>0</td>\n",
              "    </tr>\n",
              "  </tbody>\n",
              "</table>\n",
              "</div>\n",
              "    <div class=\"colab-df-buttons\">\n",
              "\n",
              "  <div class=\"colab-df-container\">\n",
              "    <button class=\"colab-df-convert\" onclick=\"convertToInteractive('df-04528e05-46bd-4e24-9be1-b3cd98459da1')\"\n",
              "            title=\"Convert this dataframe to an interactive table.\"\n",
              "            style=\"display:none;\">\n",
              "\n",
              "  <svg xmlns=\"http://www.w3.org/2000/svg\" height=\"24px\" viewBox=\"0 -960 960 960\">\n",
              "    <path d=\"M120-120v-720h720v720H120Zm60-500h600v-160H180v160Zm220 220h160v-160H400v160Zm0 220h160v-160H400v160ZM180-400h160v-160H180v160Zm440 0h160v-160H620v160ZM180-180h160v-160H180v160Zm440 0h160v-160H620v160Z\"/>\n",
              "  </svg>\n",
              "    </button>\n",
              "\n",
              "  <style>\n",
              "    .colab-df-container {\n",
              "      display:flex;\n",
              "      gap: 12px;\n",
              "    }\n",
              "\n",
              "    .colab-df-convert {\n",
              "      background-color: #E8F0FE;\n",
              "      border: none;\n",
              "      border-radius: 50%;\n",
              "      cursor: pointer;\n",
              "      display: none;\n",
              "      fill: #1967D2;\n",
              "      height: 32px;\n",
              "      padding: 0 0 0 0;\n",
              "      width: 32px;\n",
              "    }\n",
              "\n",
              "    .colab-df-convert:hover {\n",
              "      background-color: #E2EBFA;\n",
              "      box-shadow: 0px 1px 2px rgba(60, 64, 67, 0.3), 0px 1px 3px 1px rgba(60, 64, 67, 0.15);\n",
              "      fill: #174EA6;\n",
              "    }\n",
              "\n",
              "    .colab-df-buttons div {\n",
              "      margin-bottom: 4px;\n",
              "    }\n",
              "\n",
              "    [theme=dark] .colab-df-convert {\n",
              "      background-color: #3B4455;\n",
              "      fill: #D2E3FC;\n",
              "    }\n",
              "\n",
              "    [theme=dark] .colab-df-convert:hover {\n",
              "      background-color: #434B5C;\n",
              "      box-shadow: 0px 1px 3px 1px rgba(0, 0, 0, 0.15);\n",
              "      filter: drop-shadow(0px 1px 2px rgba(0, 0, 0, 0.3));\n",
              "      fill: #FFFFFF;\n",
              "    }\n",
              "  </style>\n",
              "\n",
              "    <script>\n",
              "      const buttonEl =\n",
              "        document.querySelector('#df-04528e05-46bd-4e24-9be1-b3cd98459da1 button.colab-df-convert');\n",
              "      buttonEl.style.display =\n",
              "        google.colab.kernel.accessAllowed ? 'block' : 'none';\n",
              "\n",
              "      async function convertToInteractive(key) {\n",
              "        const element = document.querySelector('#df-04528e05-46bd-4e24-9be1-b3cd98459da1');\n",
              "        const dataTable =\n",
              "          await google.colab.kernel.invokeFunction('convertToInteractive',\n",
              "                                                    [key], {});\n",
              "        if (!dataTable) return;\n",
              "\n",
              "        const docLinkHtml = 'Like what you see? Visit the ' +\n",
              "          '<a target=\"_blank\" href=https://colab.research.google.com/notebooks/data_table.ipynb>data table notebook</a>'\n",
              "          + ' to learn more about interactive tables.';\n",
              "        element.innerHTML = '';\n",
              "        dataTable['output_type'] = 'display_data';\n",
              "        await google.colab.output.renderOutput(dataTable, element);\n",
              "        const docLink = document.createElement('div');\n",
              "        docLink.innerHTML = docLinkHtml;\n",
              "        element.appendChild(docLink);\n",
              "      }\n",
              "    </script>\n",
              "  </div>\n",
              "\n",
              "\n",
              "<div id=\"df-b9fa7b59-d42f-486b-b647-d0218651cd06\">\n",
              "  <button class=\"colab-df-quickchart\" onclick=\"quickchart('df-b9fa7b59-d42f-486b-b647-d0218651cd06')\"\n",
              "            title=\"Suggest charts\"\n",
              "            style=\"display:none;\">\n",
              "\n",
              "<svg xmlns=\"http://www.w3.org/2000/svg\" height=\"24px\"viewBox=\"0 0 24 24\"\n",
              "     width=\"24px\">\n",
              "    <g>\n",
              "        <path d=\"M19 3H5c-1.1 0-2 .9-2 2v14c0 1.1.9 2 2 2h14c1.1 0 2-.9 2-2V5c0-1.1-.9-2-2-2zM9 17H7v-7h2v7zm4 0h-2V7h2v10zm4 0h-2v-4h2v4z\"/>\n",
              "    </g>\n",
              "</svg>\n",
              "  </button>\n",
              "\n",
              "<style>\n",
              "  .colab-df-quickchart {\n",
              "      --bg-color: #E8F0FE;\n",
              "      --fill-color: #1967D2;\n",
              "      --hover-bg-color: #E2EBFA;\n",
              "      --hover-fill-color: #174EA6;\n",
              "      --disabled-fill-color: #AAA;\n",
              "      --disabled-bg-color: #DDD;\n",
              "  }\n",
              "\n",
              "  [theme=dark] .colab-df-quickchart {\n",
              "      --bg-color: #3B4455;\n",
              "      --fill-color: #D2E3FC;\n",
              "      --hover-bg-color: #434B5C;\n",
              "      --hover-fill-color: #FFFFFF;\n",
              "      --disabled-bg-color: #3B4455;\n",
              "      --disabled-fill-color: #666;\n",
              "  }\n",
              "\n",
              "  .colab-df-quickchart {\n",
              "    background-color: var(--bg-color);\n",
              "    border: none;\n",
              "    border-radius: 50%;\n",
              "    cursor: pointer;\n",
              "    display: none;\n",
              "    fill: var(--fill-color);\n",
              "    height: 32px;\n",
              "    padding: 0;\n",
              "    width: 32px;\n",
              "  }\n",
              "\n",
              "  .colab-df-quickchart:hover {\n",
              "    background-color: var(--hover-bg-color);\n",
              "    box-shadow: 0 1px 2px rgba(60, 64, 67, 0.3), 0 1px 3px 1px rgba(60, 64, 67, 0.15);\n",
              "    fill: var(--button-hover-fill-color);\n",
              "  }\n",
              "\n",
              "  .colab-df-quickchart-complete:disabled,\n",
              "  .colab-df-quickchart-complete:disabled:hover {\n",
              "    background-color: var(--disabled-bg-color);\n",
              "    fill: var(--disabled-fill-color);\n",
              "    box-shadow: none;\n",
              "  }\n",
              "\n",
              "  .colab-df-spinner {\n",
              "    border: 2px solid var(--fill-color);\n",
              "    border-color: transparent;\n",
              "    border-bottom-color: var(--fill-color);\n",
              "    animation:\n",
              "      spin 1s steps(1) infinite;\n",
              "  }\n",
              "\n",
              "  @keyframes spin {\n",
              "    0% {\n",
              "      border-color: transparent;\n",
              "      border-bottom-color: var(--fill-color);\n",
              "      border-left-color: var(--fill-color);\n",
              "    }\n",
              "    20% {\n",
              "      border-color: transparent;\n",
              "      border-left-color: var(--fill-color);\n",
              "      border-top-color: var(--fill-color);\n",
              "    }\n",
              "    30% {\n",
              "      border-color: transparent;\n",
              "      border-left-color: var(--fill-color);\n",
              "      border-top-color: var(--fill-color);\n",
              "      border-right-color: var(--fill-color);\n",
              "    }\n",
              "    40% {\n",
              "      border-color: transparent;\n",
              "      border-right-color: var(--fill-color);\n",
              "      border-top-color: var(--fill-color);\n",
              "    }\n",
              "    60% {\n",
              "      border-color: transparent;\n",
              "      border-right-color: var(--fill-color);\n",
              "    }\n",
              "    80% {\n",
              "      border-color: transparent;\n",
              "      border-right-color: var(--fill-color);\n",
              "      border-bottom-color: var(--fill-color);\n",
              "    }\n",
              "    90% {\n",
              "      border-color: transparent;\n",
              "      border-bottom-color: var(--fill-color);\n",
              "    }\n",
              "  }\n",
              "</style>\n",
              "\n",
              "  <script>\n",
              "    async function quickchart(key) {\n",
              "      const quickchartButtonEl =\n",
              "        document.querySelector('#' + key + ' button');\n",
              "      quickchartButtonEl.disabled = true;  // To prevent multiple clicks.\n",
              "      quickchartButtonEl.classList.add('colab-df-spinner');\n",
              "      try {\n",
              "        const charts = await google.colab.kernel.invokeFunction(\n",
              "            'suggestCharts', [key], {});\n",
              "      } catch (error) {\n",
              "        console.error('Error during call to suggestCharts:', error);\n",
              "      }\n",
              "      quickchartButtonEl.classList.remove('colab-df-spinner');\n",
              "      quickchartButtonEl.classList.add('colab-df-quickchart-complete');\n",
              "    }\n",
              "    (() => {\n",
              "      let quickchartButtonEl =\n",
              "        document.querySelector('#df-b9fa7b59-d42f-486b-b647-d0218651cd06 button');\n",
              "      quickchartButtonEl.style.display =\n",
              "        google.colab.kernel.accessAllowed ? 'block' : 'none';\n",
              "    })();\n",
              "  </script>\n",
              "</div>\n",
              "\n",
              "    </div>\n",
              "  </div>\n"
            ],
            "application/vnd.google.colaboratory.intrinsic+json": {
              "type": "dataframe",
              "variable_name": "data",
              "summary": "{\n  \"name\": \"data\",\n  \"rows\": 1000,\n  \"fields\": [\n    {\n      \"column\": \"User ID\",\n      \"properties\": {\n        \"dtype\": \"number\",\n        \"std\": 288,\n        \"min\": 1,\n        \"max\": 1000,\n        \"num_unique_values\": 1000,\n        \"samples\": [\n          176,\n          448,\n          391\n        ],\n        \"semantic_type\": \"\",\n        \"description\": \"\"\n      }\n    },\n    {\n      \"column\": \"Gender\",\n      \"properties\": {\n        \"dtype\": \"category\",\n        \"num_unique_values\": 2,\n        \"samples\": [\n          \"Female\",\n          \"Male\"\n        ],\n        \"semantic_type\": \"\",\n        \"description\": \"\"\n      }\n    },\n    {\n      \"column\": \"Age\",\n      \"properties\": {\n        \"dtype\": \"number\",\n        \"std\": 10,\n        \"min\": 18,\n        \"max\": 63,\n        \"num_unique_values\": 46,\n        \"samples\": [\n          18,\n          28\n        ],\n        \"semantic_type\": \"\",\n        \"description\": \"\"\n      }\n    },\n    {\n      \"column\": \"AnnualSalary\",\n      \"properties\": {\n        \"dtype\": \"number\",\n        \"std\": 34488,\n        \"min\": 15000,\n        \"max\": 152500,\n        \"num_unique_values\": 247,\n        \"samples\": [\n          113500,\n          132500\n        ],\n        \"semantic_type\": \"\",\n        \"description\": \"\"\n      }\n    },\n    {\n      \"column\": \"Purchased\",\n      \"properties\": {\n        \"dtype\": \"number\",\n        \"std\": 0,\n        \"min\": 0,\n        \"max\": 1,\n        \"num_unique_values\": 2,\n        \"samples\": [\n          1,\n          0\n        ],\n        \"semantic_type\": \"\",\n        \"description\": \"\"\n      }\n    }\n  ]\n}"
            }
          },
          "metadata": {},
          "execution_count": 17
        }
      ]
    },
    {
      "cell_type": "code",
      "execution_count": 26,
      "metadata": {
        "id": "a4TtIA8VGXpT"
      },
      "outputs": [],
      "source": [
        "class CarsPurchaseDataset(Dataset):\n",
        "    def __init__(self, file_path= \"/content/car_data.csv\", mode=\"train\"):\n",
        "        # [CODE START]\n",
        "        data = pd.read_csv(file_path, sep=\",\", header = 0)\n",
        "        # [CODE END]\n",
        "\n",
        "        # [CODE START]\n",
        "        X = data.drop(columns=[\"User ID\", \"Purchased\"])\n",
        "        y = data[\"Purchased\"]\n",
        "        # [CODE END]\n",
        "\n",
        "        X['Gender'] = X.Gender.apply(lambda x: 0 if x == \"Male\" else 1)\n",
        "        scaler = StandardScaler()\n",
        "        X[['Age','AnnualSalary']] = scaler.fit_transform(X[['Age', 'AnnualSalary']])\n",
        "\n",
        "        X = X.values\n",
        "        y = y.values\n",
        "\n",
        "        X_train, X_test, y_train, y_test = train_test_split(X, y, test_size=0.2, random_state=42)\n",
        "\n",
        "        # [CODE START]\n",
        "        if mode == \"train\":\n",
        "            self.X = torch.tensor(X_train, dtype = torch.float32)\n",
        "            self.y = torch.tensor(y_train, dtype = torch.float32).unsqueeze(1)\n",
        "        else:\n",
        "            self.X = torch.tensor(X_test, dtype = torch.float32)\n",
        "            self.y = torch.tensor(y_test, dtype = torch.float32).unsqueeze(1)\n",
        "        # [CODE END]\n",
        "\n",
        "    def __len__(self):\n",
        "        # [CODE START]\n",
        "        return len(self.X)\n",
        "        # [CODE END]\n",
        "\n",
        "    def __getitem__(self, idx):\n",
        "        # [CODE START]\n",
        "        return self.X[idx], self.y[idx]\n",
        "        # [CODE END]"
      ]
    },
    {
      "cell_type": "markdown",
      "metadata": {
        "id": "emzc-cwqGXpU"
      },
      "source": [
        "올바르게 작성했을 경우, 학습용 데이터셋와 평가용 데이터셋에 대한 길이가 각각 800, 200으로 반환되어 아래 코드가 에러 없이 잘 수행됩니다."
      ]
    },
    {
      "cell_type": "code",
      "execution_count": 27,
      "metadata": {
        "id": "_xW6B9v_GXpU"
      },
      "outputs": [],
      "source": [
        "train_data = CarsPurchaseDataset()\n",
        "test_data = CarsPurchaseDataset(mode=\"test\")\n",
        "\n",
        "assert len(train_data) == 800\n",
        "assert len(test_data) == 200"
      ]
    },
    {
      "cell_type": "markdown",
      "metadata": {
        "id": "R8ny9wOvGXpU"
      },
      "source": [
        "또한 학습용과 평가용 데이터셋 객체 모두 반환하는 데이터가 튜플 형태로 주어질 것이며, 각각의 모양은 (3,)과 (1,)로 나타나야 합니다.\n",
        "\n",
        "즉, 아래 코드가 에러 없이 잘 수행되어야 합니다."
      ]
    },
    {
      "cell_type": "code",
      "execution_count": 28,
      "metadata": {
        "id": "RV4m5q8WGXpU",
        "outputId": "f726a279-6076-47b2-b04b-a944b5dc5c4a",
        "colab": {
          "base_uri": "https://localhost:8080/"
        }
      },
      "outputs": [
        {
          "output_type": "stream",
          "name": "stdout",
          "text": [
            "Data is loaded correctly!\n",
            "tensor([ 1.0000, -0.1968,  2.1703])\n"
          ]
        }
      ],
      "source": [
        "X, y = next(iter(train_data))\n",
        "assert X.shape == (3,)\n",
        "assert y.shape == (1,)\n",
        "\n",
        "print(\"Data is loaded correctly!\")\n",
        "print(X)"
      ]
    },
    {
      "cell_type": "markdown",
      "metadata": {
        "id": "UkLj1IUAGXpU"
      },
      "source": [
        "### 문제 2. 생성한 데이터셋 객체를 바탕으로 DataLoader 객체를 생성하세요.\n",
        "- 학습용 데이터로더 객체의 경우, 배치 사이즈는 32로 하며, 랜덤으로 셔플된 데이터가 반환되도록 생성하세요.\n",
        "- 평가용 데이터로더 객체의 경우, 배치 사이즈는 64로 하여 생성하세요.\n",
        "- 데이터로더 객체를 저장할 변수는 각각 `train_loader`와 `test_loader`입니다."
      ]
    },
    {
      "cell_type": "code",
      "execution_count": 29,
      "metadata": {
        "id": "jjJwyRPBGXpU"
      },
      "outputs": [],
      "source": [
        "from torch.utils.data import DataLoader\n",
        "# [CODE START]\n",
        "train_loader = DataLoader(train_data, batch_size=32, shuffle=True)\n",
        "test_loader = DataLoader(test_data, batch_size=64, shuffle = False)\n",
        "# [CODE END]"
      ]
    },
    {
      "cell_type": "markdown",
      "metadata": {
        "id": "vI9suWm2GXpU"
      },
      "source": [
        "올바르게 작성했다면, 학습용 데이터로더와 평가용 데이터로더 모두 아래와 같이 올바른 모양의 텐서를 반환할 것입니다."
      ]
    },
    {
      "cell_type": "code",
      "execution_count": 64,
      "metadata": {
        "id": "h9jk4EqUGXpU",
        "outputId": "378e4bd1-3149-48f7-82cd-ab8fb256723b",
        "colab": {
          "base_uri": "https://localhost:8080/"
        }
      },
      "outputs": [
        {
          "output_type": "stream",
          "name": "stdout",
          "text": [
            "Shape of batch is correct!\n"
          ]
        }
      ],
      "source": [
        "batched_X, batched_y = next(iter(train_loader))\n",
        "assert batched_X.shape == (32, 3)\n",
        "assert batched_y.shape == (32, 1)\n",
        "\n",
        "batched_X, batched_y = next(iter(test_loader))\n",
        "assert batched_X.shape == (64, 3)\n",
        "assert batched_y.shape == (64, 1)\n",
        "\n",
        "print(\"Shape of batch is correct!\")"
      ]
    },
    {
      "cell_type": "markdown",
      "metadata": {
        "id": "lO9NxS7DGXpU"
      },
      "source": [
        "---\n",
        "## **로지스틱 회귀 모형 작성하고 학습하기**"
      ]
    },
    {
      "cell_type": "markdown",
      "metadata": {
        "id": "1-18PSJbGXpU"
      },
      "source": [
        "이제, 각자 환경에 맞는 device를 설정합니다."
      ]
    },
    {
      "cell_type": "code",
      "execution_count": 65,
      "metadata": {
        "id": "dOjARu-aGXpU"
      },
      "outputs": [],
      "source": [
        "device = torch.device(\"cuda\" if torch.cuda.is_available() else \"cpu\")"
      ]
    },
    {
      "cell_type": "markdown",
      "metadata": {
        "id": "gOSVYdYtGXpU"
      },
      "source": [
        "### 문제 3. 로지스틱 회귀 모델을 위한 클래스를 작성하세요.\n",
        "\n",
        "3.1 `__init__` 함수 완성하기\n",
        "\n",
        "- 인스턴스 변수 `linear`에 `input_size`에 저장된 차원의 데이터를 받아 1차원의 데이터를 반환하는 선형 layer를 저장하세요.\n",
        "\n",
        "3.2 `forward` 함수 완성하기\n",
        "\n",
        "- 로지스틱 회귀 모델에 맞는 출력값을 반환하도록 작성하세요."
      ]
    },
    {
      "cell_type": "code",
      "execution_count": 73,
      "metadata": {
        "id": "42FEXyHtGXpU"
      },
      "outputs": [],
      "source": [
        "import torch.nn as nn\n",
        "\n",
        "class LogisticRegressionNN(nn.Module):\n",
        "    def __init__(self, input_size):\n",
        "        super(LogisticRegressionNN, self).__init__()\n",
        "        # [START CODE]\n",
        "        self.linear = nn.Linear(input_size, 1)\n",
        "        self.sigmoid = nn.Sigmoid()\n",
        "        # [END CODE]\n",
        "\n",
        "    def forward(self, x):\n",
        "        # [START CODE]\n",
        "        x = self.linear(x)\n",
        "        x = self.sigmoid(x)\n",
        "        return x\n",
        "        # [END CODE]"
      ]
    },
    {
      "cell_type": "markdown",
      "metadata": {
        "id": "SJ-Md0d8GXpV"
      },
      "source": [
        "주어진 데이터의 예측변수의 차원은 3이므로 이에 맞게 모델을 초기화합니다."
      ]
    },
    {
      "cell_type": "code",
      "execution_count": 74,
      "metadata": {
        "id": "qiHJcp__GXpV"
      },
      "outputs": [],
      "source": [
        "input_size = 3\n",
        "model = LogisticRegressionNN(input_size)"
      ]
    },
    {
      "cell_type": "markdown",
      "metadata": {
        "id": "JiiUSdryGXpV"
      },
      "source": [
        "### 문제 4. 로지스틱 회귀 모델을 학습하기 위한 손실함수 객체를 알맞게 생성하여 변수 `criterion`에 저장하세요."
      ]
    },
    {
      "cell_type": "code",
      "execution_count": 75,
      "metadata": {
        "id": "IOUZe9yMGXpV"
      },
      "outputs": [],
      "source": [
        "# [START CODE]\n",
        "criterion = nn.BCELoss()\n",
        "# [END CODE]"
      ]
    },
    {
      "cell_type": "markdown",
      "metadata": {
        "id": "vcryT173GXpV"
      },
      "source": [
        "### 문제 5. 로지스틱 회귀 모델을 학습하기 위한 옵티마이저 객체를 생성하여 변수 optimizer에 저장하세요.\n",
        "- 옵티마이저의 종류는 수강생분께서 선택하시면 됩니다.\n",
        "- 여러 옵티마이저를 가지고 학습해보시기를 권장합니다."
      ]
    },
    {
      "cell_type": "code",
      "execution_count": 76,
      "metadata": {
        "id": "aakYXKASGXpV"
      },
      "outputs": [],
      "source": [
        "import torch.optim as optim\n",
        "# [START CODE]\n",
        "optimizer = optim.SGD(model.parameters(), lr = 0.01)\n",
        "# [END CODE]"
      ]
    },
    {
      "cell_type": "markdown",
      "metadata": {
        "id": "cAmI2DOkGXpV"
      },
      "source": [
        "### 문제 6. 모델을 학습하는 함수 `train`을 완성하세요.\n",
        "\n",
        "함수가 받는 인자는 순서대로 모델 객체, 손실함수 객체, 옵티마이저 객체, 데이터로더 객체, 디바이스 종류, 그리고 epoch 횟수입니다.\n",
        "\n",
        "아래 요구하는 여섯가지 동작은 각 배치마다 수행하는 것으로, 이에 대한 코드를 순서대로 구현하여 완성하세요.\n",
        "\n",
        "6.1 옵티마이저에 저장된 그래디언트 정보를 초기화합니다.\n",
        "\n",
        "6.2 모델의 출력값을 계산하여 변수 `outputs`에 저장합니다.\n",
        "\n",
        "6.3 모델의 출력값과 실제 label값을 바탕으로 손실함수를 계산합니다.\n",
        "\n",
        "6.4 손실함수에 대해 역전파 방식으로 그래디언트를 계산합니다.\n",
        "\n",
        "6.5 옵티마이저의 최적화 기법을 수행합니다.\n",
        "\n",
        "6.6 변수 `epoch_loss`에 계산된 손실함수 값을 저장합니다.\n",
        "\n",
        "<font color='red'><b>*주의: 모델과 데이터가 같은 디바이스에 있어야 에러없이 잘 동작합니다.*</font>"
      ]
    },
    {
      "cell_type": "code",
      "execution_count": 77,
      "metadata": {
        "scrolled": true,
        "id": "KohDVeWBGXpV"
      },
      "outputs": [],
      "source": [
        "def train(model, criterion, optimizer, dataloader, device, num_epoch=100):\n",
        "    model.train()\n",
        "    model.to(device)\n",
        "\n",
        "    for epoch in range(num_epoch):\n",
        "        epoch_loss = 0.0\n",
        "        for inputs, targets in dataloader:\n",
        "            # [START CODE]\n",
        "            inputs, targets = inputs.to(device), targets.to(device)\n",
        "            optimizer.zero_grad()\n",
        "            outputs = model(inputs)\n",
        "            loss = criterion(outputs, targets)\n",
        "            loss.backward()\n",
        "            optimizer.step()\n",
        "            epoch_loss += loss.item()\n",
        "            # [END CODE]\n",
        "        print(f\"Epoch {epoch+1}, Loss: {epoch_loss}\")"
      ]
    },
    {
      "cell_type": "markdown",
      "metadata": {
        "id": "ToOZ18yNGXpV"
      },
      "source": [
        "학습 코드를 올바르게 작성했다면, 아래 코드가 잘 실행되어 로지스틱 회귀 모델이 잘 수행될 것입니다."
      ]
    },
    {
      "cell_type": "code",
      "execution_count": 78,
      "metadata": {
        "scrolled": true,
        "id": "jX8KND0SGXpV",
        "outputId": "86d61ac2-58c1-4d81-a0b0-617a9d03d183",
        "colab": {
          "base_uri": "https://localhost:8080/"
        }
      },
      "outputs": [
        {
          "output_type": "stream",
          "name": "stdout",
          "text": [
            "Epoch 1, Loss: 19.05710458755493\n",
            "Epoch 2, Loss: 18.01810973882675\n",
            "Epoch 3, Loss: 17.116821587085724\n",
            "Epoch 4, Loss: 16.33509486913681\n",
            "Epoch 5, Loss: 15.656047999858856\n",
            "Epoch 6, Loss: 15.06301063299179\n",
            "Epoch 7, Loss: 14.546916484832764\n",
            "Epoch 8, Loss: 14.094671577215195\n",
            "Epoch 9, Loss: 13.696245431900024\n",
            "Epoch 10, Loss: 13.344367355108261\n",
            "Epoch 11, Loss: 13.03274992108345\n",
            "Epoch 12, Loss: 12.755142331123352\n",
            "Epoch 13, Loss: 12.505824208259583\n",
            "Epoch 14, Loss: 12.281539022922516\n",
            "Epoch 15, Loss: 12.079416662454605\n",
            "Epoch 16, Loss: 11.89656114578247\n",
            "Epoch 17, Loss: 11.731286585330963\n",
            "Epoch 18, Loss: 11.579010248184204\n",
            "Epoch 19, Loss: 11.440334528684616\n",
            "Epoch 20, Loss: 11.313248723745346\n",
            "Epoch 21, Loss: 11.196803480386734\n",
            "Epoch 22, Loss: 11.089099735021591\n",
            "Epoch 23, Loss: 10.989444583654404\n",
            "Epoch 24, Loss: 10.897386312484741\n",
            "Epoch 25, Loss: 10.81124398112297\n",
            "Epoch 26, Loss: 10.731701105833054\n",
            "Epoch 27, Loss: 10.657783776521683\n",
            "Epoch 28, Loss: 10.588370352983475\n",
            "Epoch 29, Loss: 10.522957354784012\n",
            "Epoch 30, Loss: 10.461897224187851\n",
            "Epoch 31, Loss: 10.404964655637741\n",
            "Epoch 32, Loss: 10.351584374904633\n",
            "Epoch 33, Loss: 10.300709426403046\n",
            "Epoch 34, Loss: 10.25275531411171\n",
            "Epoch 35, Loss: 10.207680732011795\n",
            "Epoch 36, Loss: 10.16527771949768\n",
            "Epoch 37, Loss: 10.124884903430939\n",
            "Epoch 38, Loss: 10.086732983589172\n",
            "Epoch 39, Loss: 10.051131963729858\n",
            "Epoch 40, Loss: 10.016050785779953\n",
            "Epoch 41, Loss: 9.983500599861145\n",
            "Epoch 42, Loss: 9.95252212882042\n",
            "Epoch 43, Loss: 9.923201650381088\n",
            "Epoch 44, Loss: 9.894987165927887\n",
            "Epoch 45, Loss: 9.867829144001007\n",
            "Epoch 46, Loss: 9.842266201972961\n",
            "Epoch 47, Loss: 9.817579358816147\n",
            "Epoch 48, Loss: 9.794169843196869\n",
            "Epoch 49, Loss: 9.771892547607422\n",
            "Epoch 50, Loss: 9.750612586736679\n",
            "Epoch 51, Loss: 9.730540618300438\n",
            "Epoch 52, Loss: 9.709999680519104\n",
            "Epoch 53, Loss: 9.69143745303154\n",
            "Epoch 54, Loss: 9.6730238199234\n",
            "Epoch 55, Loss: 9.655590742826462\n",
            "Epoch 56, Loss: 9.639696776866913\n",
            "Epoch 57, Loss: 9.623309224843979\n",
            "Epoch 58, Loss: 9.607895195484161\n",
            "Epoch 59, Loss: 9.593083620071411\n",
            "Epoch 60, Loss: 9.578330963850021\n",
            "Epoch 61, Loss: 9.565300345420837\n",
            "Epoch 62, Loss: 9.55142143368721\n",
            "Epoch 63, Loss: 9.538504213094711\n",
            "Epoch 64, Loss: 9.52626883983612\n",
            "Epoch 65, Loss: 9.51528750360012\n",
            "Epoch 66, Loss: 9.502774804830551\n",
            "Epoch 67, Loss: 9.492164343595505\n",
            "Epoch 68, Loss: 9.481162935495377\n",
            "Epoch 69, Loss: 9.471065640449524\n",
            "Epoch 70, Loss: 9.460926234722137\n",
            "Epoch 71, Loss: 9.451375484466553\n",
            "Epoch 72, Loss: 9.442877411842346\n",
            "Epoch 73, Loss: 9.432735621929169\n",
            "Epoch 74, Loss: 9.424174129962921\n",
            "Epoch 75, Loss: 9.416155934333801\n",
            "Epoch 76, Loss: 9.407698810100555\n",
            "Epoch 77, Loss: 9.399631977081299\n",
            "Epoch 78, Loss: 9.39225223660469\n",
            "Epoch 79, Loss: 9.384663373231888\n",
            "Epoch 80, Loss: 9.377159401774406\n",
            "Epoch 81, Loss: 9.370679005980492\n",
            "Epoch 82, Loss: 9.363784581422806\n",
            "Epoch 83, Loss: 9.357174322009087\n",
            "Epoch 84, Loss: 9.351443067193031\n",
            "Epoch 85, Loss: 9.344848334789276\n",
            "Epoch 86, Loss: 9.338828176259995\n",
            "Epoch 87, Loss: 9.332654252648354\n",
            "Epoch 88, Loss: 9.327505320310593\n",
            "Epoch 89, Loss: 9.321807220578194\n",
            "Epoch 90, Loss: 9.316250905394554\n",
            "Epoch 91, Loss: 9.311034426093102\n",
            "Epoch 92, Loss: 9.306152164936066\n",
            "Epoch 93, Loss: 9.300972923636436\n",
            "Epoch 94, Loss: 9.296370565891266\n",
            "Epoch 95, Loss: 9.291784673929214\n",
            "Epoch 96, Loss: 9.2873275578022\n",
            "Epoch 97, Loss: 9.282741278409958\n",
            "Epoch 98, Loss: 9.27882432937622\n",
            "Epoch 99, Loss: 9.275185078382492\n",
            "Epoch 100, Loss: 9.270456969738007\n"
          ]
        }
      ],
      "source": [
        "train(model, criterion, optimizer, train_loader, device, 100)"
      ]
    },
    {
      "cell_type": "markdown",
      "metadata": {
        "id": "sGPAcbdDGXpV"
      },
      "source": [
        "### 문제 7. 모델을 평가하는 함수 `test`를 완성하세요.\n",
        "함수가 받는 인자는 순서대로 모델 객체와 데이터로더 객체입니다.\n",
        "\n",
        "7.1 모델의 출력값을 계산하여 변수 `y_pred`에 저장하세요.\n",
        "\n",
        "7.2 `y_pred`에 저장된 값 각각에 대해 0.5보다 크면 레이블을 1로, 0.5보다 작으면 0으로 레이블을 예측하도록 하여 예측 레이블을 변수 `y_pred_class`에 저장하세요.\n",
        "\n",
        "7.3 예측한 레이블과 실제 레이블이 일치하는 개수를 세어 변수 `correct`에 더해주세요.\n",
        "\n",
        "7.4 배치의 개수를 세어 변수 `n_data`에 더해주세요."
      ]
    },
    {
      "cell_type": "code",
      "execution_count": 86,
      "metadata": {
        "id": "PTfL5F1DGXpV"
      },
      "outputs": [],
      "source": [
        "def test(model, dataloader):\n",
        "    model.eval()\n",
        "    correct = 0 # 예측한 레이블이 정답과 일치하는 개수를 저장하기 위한 변수\n",
        "    n_data = 0 # 전체 데이터의 개수를 저장하기 위한 변수\n",
        "    for inputs, targets in test_loader:\n",
        "        # [START CODE]\n",
        "        y_pred = model(inputs)\n",
        "        y_pred_class = (y_pred > 0.5).float()\n",
        "        correct += (y_pred_class == targets).sum()\n",
        "        n_data += targets.size(0)\n",
        "        # [END CODE]\n",
        "    print(f\"accuracy: {correct/n_data}\")"
      ]
    },
    {
      "cell_type": "markdown",
      "metadata": {
        "id": "RwaJSZhRGXpV"
      },
      "source": [
        "평가 코드를 올바르게 작성하였다면, 아래와 같이 평가용 데이터에 대한 정확도가 출력됩니다."
      ]
    },
    {
      "cell_type": "code",
      "execution_count": 87,
      "metadata": {
        "id": "zyXVmcDIGXpV",
        "outputId": "543888e6-2acc-4e06-8f30-aee9d3a50914",
        "colab": {
          "base_uri": "https://localhost:8080/"
        }
      },
      "outputs": [
        {
          "output_type": "stream",
          "name": "stdout",
          "text": [
            "accuracy: 0.800000011920929\n"
          ]
        }
      ],
      "source": [
        "test(model, test_loader)"
      ]
    },
    {
      "cell_type": "markdown",
      "metadata": {
        "id": "BeNwgFQuGXpV"
      },
      "source": [
        "## **Scikit-Learn 결과와의 비교**"
      ]
    },
    {
      "cell_type": "markdown",
      "metadata": {
        "id": "l3_NFrnsGXpV"
      },
      "source": [
        "이제, 머신러닝을 통해 계산한 로지스틱 회귀 모형과 통계적인 방법으로 적합한 로지스틱 회귀 모형을 비교하고자 합니다.\n",
        "\n",
        "scikit-learn 라이브러리에서 `LogisticRegression`클래스를 이용하여 통계적인 방법으로 로지스틱 회귀 모형을 적합할 수 있습니다."
      ]
    },
    {
      "cell_type": "code",
      "execution_count": 83,
      "metadata": {
        "id": "4dGnH-dDGXpV"
      },
      "outputs": [],
      "source": [
        "from sklearn.linear_model import LogisticRegression\n",
        "from sklearn.metrics import accuracy_score"
      ]
    },
    {
      "cell_type": "markdown",
      "metadata": {
        "id": "4ziI6vjoGXpW"
      },
      "source": [
        "아래와 같이 로지스틱 회귀 모형 객체를 생성하고, 학습 데이터를 바탕으로 적합할 수 있습니다."
      ]
    },
    {
      "cell_type": "code",
      "execution_count": 89,
      "metadata": {
        "id": "dURCOXHRGXpW",
        "outputId": "2ac35684-f0b8-4261-842d-a72a5825e632",
        "colab": {
          "base_uri": "https://localhost:8080/",
          "height": 130
        }
      },
      "outputs": [
        {
          "output_type": "stream",
          "name": "stderr",
          "text": [
            "/usr/local/lib/python3.10/dist-packages/sklearn/utils/validation.py:1183: DataConversionWarning: A column-vector y was passed when a 1d array was expected. Please change the shape of y to (n_samples, ), for example using ravel().\n",
            "  y = column_or_1d(y, warn=True)\n"
          ]
        },
        {
          "output_type": "execute_result",
          "data": {
            "text/plain": [
              "LogisticRegression()"
            ],
            "text/html": [
              "<style>#sk-container-id-2 {color: black;}#sk-container-id-2 pre{padding: 0;}#sk-container-id-2 div.sk-toggleable {background-color: white;}#sk-container-id-2 label.sk-toggleable__label {cursor: pointer;display: block;width: 100%;margin-bottom: 0;padding: 0.3em;box-sizing: border-box;text-align: center;}#sk-container-id-2 label.sk-toggleable__label-arrow:before {content: \"▸\";float: left;margin-right: 0.25em;color: #696969;}#sk-container-id-2 label.sk-toggleable__label-arrow:hover:before {color: black;}#sk-container-id-2 div.sk-estimator:hover label.sk-toggleable__label-arrow:before {color: black;}#sk-container-id-2 div.sk-toggleable__content {max-height: 0;max-width: 0;overflow: hidden;text-align: left;background-color: #f0f8ff;}#sk-container-id-2 div.sk-toggleable__content pre {margin: 0.2em;color: black;border-radius: 0.25em;background-color: #f0f8ff;}#sk-container-id-2 input.sk-toggleable__control:checked~div.sk-toggleable__content {max-height: 200px;max-width: 100%;overflow: auto;}#sk-container-id-2 input.sk-toggleable__control:checked~label.sk-toggleable__label-arrow:before {content: \"▾\";}#sk-container-id-2 div.sk-estimator input.sk-toggleable__control:checked~label.sk-toggleable__label {background-color: #d4ebff;}#sk-container-id-2 div.sk-label input.sk-toggleable__control:checked~label.sk-toggleable__label {background-color: #d4ebff;}#sk-container-id-2 input.sk-hidden--visually {border: 0;clip: rect(1px 1px 1px 1px);clip: rect(1px, 1px, 1px, 1px);height: 1px;margin: -1px;overflow: hidden;padding: 0;position: absolute;width: 1px;}#sk-container-id-2 div.sk-estimator {font-family: monospace;background-color: #f0f8ff;border: 1px dotted black;border-radius: 0.25em;box-sizing: border-box;margin-bottom: 0.5em;}#sk-container-id-2 div.sk-estimator:hover {background-color: #d4ebff;}#sk-container-id-2 div.sk-parallel-item::after {content: \"\";width: 100%;border-bottom: 1px solid gray;flex-grow: 1;}#sk-container-id-2 div.sk-label:hover label.sk-toggleable__label {background-color: #d4ebff;}#sk-container-id-2 div.sk-serial::before {content: \"\";position: absolute;border-left: 1px solid gray;box-sizing: border-box;top: 0;bottom: 0;left: 50%;z-index: 0;}#sk-container-id-2 div.sk-serial {display: flex;flex-direction: column;align-items: center;background-color: white;padding-right: 0.2em;padding-left: 0.2em;position: relative;}#sk-container-id-2 div.sk-item {position: relative;z-index: 1;}#sk-container-id-2 div.sk-parallel {display: flex;align-items: stretch;justify-content: center;background-color: white;position: relative;}#sk-container-id-2 div.sk-item::before, #sk-container-id-2 div.sk-parallel-item::before {content: \"\";position: absolute;border-left: 1px solid gray;box-sizing: border-box;top: 0;bottom: 0;left: 50%;z-index: -1;}#sk-container-id-2 div.sk-parallel-item {display: flex;flex-direction: column;z-index: 1;position: relative;background-color: white;}#sk-container-id-2 div.sk-parallel-item:first-child::after {align-self: flex-end;width: 50%;}#sk-container-id-2 div.sk-parallel-item:last-child::after {align-self: flex-start;width: 50%;}#sk-container-id-2 div.sk-parallel-item:only-child::after {width: 0;}#sk-container-id-2 div.sk-dashed-wrapped {border: 1px dashed gray;margin: 0 0.4em 0.5em 0.4em;box-sizing: border-box;padding-bottom: 0.4em;background-color: white;}#sk-container-id-2 div.sk-label label {font-family: monospace;font-weight: bold;display: inline-block;line-height: 1.2em;}#sk-container-id-2 div.sk-label-container {text-align: center;}#sk-container-id-2 div.sk-container {/* jupyter's `normalize.less` sets `[hidden] { display: none; }` but bootstrap.min.css set `[hidden] { display: none !important; }` so we also need the `!important` here to be able to override the default hidden behavior on the sphinx rendered scikit-learn.org. See: https://github.com/scikit-learn/scikit-learn/issues/21755 */display: inline-block !important;position: relative;}#sk-container-id-2 div.sk-text-repr-fallback {display: none;}</style><div id=\"sk-container-id-2\" class=\"sk-top-container\"><div class=\"sk-text-repr-fallback\"><pre>LogisticRegression()</pre><b>In a Jupyter environment, please rerun this cell to show the HTML representation or trust the notebook. <br />On GitHub, the HTML representation is unable to render, please try loading this page with nbviewer.org.</b></div><div class=\"sk-container\" hidden><div class=\"sk-item\"><div class=\"sk-estimator sk-toggleable\"><input class=\"sk-toggleable__control sk-hidden--visually\" id=\"sk-estimator-id-2\" type=\"checkbox\" checked><label for=\"sk-estimator-id-2\" class=\"sk-toggleable__label sk-toggleable__label-arrow\">LogisticRegression</label><div class=\"sk-toggleable__content\"><pre>LogisticRegression()</pre></div></div></div></div></div>"
            ]
          },
          "metadata": {},
          "execution_count": 89
        }
      ],
      "source": [
        "# 로지스틱 회귀 모델 초기화 및 학습\n",
        "logistic_regression_model = LogisticRegression()\n",
        "logistic_regression_model.fit(train_data.X, train_data.y)"
      ]
    },
    {
      "cell_type": "markdown",
      "metadata": {
        "id": "eVzIMqtQGXpW"
      },
      "source": [
        "이제 평가용 데이터를 바탕으로 성능을 확인해보면, 두 방법 모두 비슷하게 적합됨을 확인할 수 있습니다."
      ]
    },
    {
      "cell_type": "code",
      "execution_count": 90,
      "metadata": {
        "id": "xHNOTXJKGXpW",
        "outputId": "ebb6c302-23a2-45b1-fdd0-219b72d2cc33",
        "colab": {
          "base_uri": "https://localhost:8080/"
        }
      },
      "outputs": [
        {
          "output_type": "stream",
          "name": "stdout",
          "text": [
            "Test Accuracy: 0.79\n"
          ]
        }
      ],
      "source": [
        "y_pred = logistic_regression_model.predict(test_data.X)\n",
        "accuracy = accuracy_score(test_data.y, y_pred)\n",
        "print(f\"Test Accuracy: {accuracy}\")"
      ]
    },
    {
      "cell_type": "markdown",
      "metadata": {
        "id": "oHQ-YpEjqaDw"
      },
      "source": [
        "## 콘텐츠 라이선스\n",
        "\n",
        "<hr style=\"height:5px;border:none;color:#5F71F7;background-color:#5F71F7\">\n",
        "\n",
        "<font color='red'><b>WARNING</font> : 본 교육 콘텐츠의 지식재산권은 재단법인 네이버커넥트에 귀속됩니다. 본 콘텐츠를 어떠한 경로로든 외부로 유출 및 수정하는 행위를 엄격히 금합니다. 다만, 비영리적 교육 및 연구활동에 한정되어 사용할 수 있으나 재단의 허락을 받아야 합니다. 이를 위반하는 경우, 관련 법률에 따라 책임을 질 수 있습니다. </b>"
      ]
    }
  ],
  "metadata": {
    "colab": {
      "provenance": [],
      "include_colab_link": true
    },
    "kernelspec": {
      "display_name": "Python 3 (ipykernel)",
      "language": "python",
      "name": "python3"
    },
    "language_info": {
      "codemirror_mode": {
        "name": "ipython",
        "version": 3
      },
      "file_extension": ".py",
      "mimetype": "text/x-python",
      "name": "python",
      "nbconvert_exporter": "python",
      "pygments_lexer": "ipython3",
      "version": "3.10.14"
    }
  },
  "nbformat": 4,
  "nbformat_minor": 0
}