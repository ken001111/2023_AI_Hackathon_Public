{
 "cells": [
  {
   "cell_type": "code",
   "execution_count": 1,
   "metadata": {},
   "outputs": [],
   "source": [
    "import os\n",
    "import json\n",
    "import torch\n",
    "import pydicom\n",
    "import warnings\n",
    "import scipy.ndimage\n",
    "import numpy as np\n",
    "import pickle\n",
    "import random\n",
    "from sklearn.model_selection import train_test_split"
   ]
  },
  {
   "cell_type": "code",
   "execution_count": 2,
   "metadata": {},
   "outputs": [],
   "source": [
    "warnings.filterwarnings('ignore')\n",
    "random.seed(51)"
   ]
  },
  {
   "cell_type": "code",
   "execution_count": 3,
   "metadata": {},
   "outputs": [
    {
     "name": "stdout",
     "output_type": "stream",
     "text": [
      "True\n"
     ]
    }
   ],
   "source": [
    "print(torch.cuda.is_available())"
   ]
  },
  {
   "cell_type": "code",
   "execution_count": 4,
   "metadata": {},
   "outputs": [],
   "source": [
    "def find_files(dir_path, extension):\n",
    "    \"\"\"\n",
    "    find DLD files(.dcm, .json) from the dir_path\n",
    "    \"\"\"\n",
    "    file_list = []\n",
    "    for root, dirs, files in os.walk(dir_path):\n",
    "        for file in files:\n",
    "            if file.endswith(extension):\n",
    "                if 'C004' in file:\n",
    "                    file_list.append(os.path.join(root,file))\n",
    "    return file_list"
   ]
  },
  {
   "cell_type": "code",
   "execution_count": 5,
   "metadata": {},
   "outputs": [],
   "source": [
    "def format_image(dcm_file):\n",
    "    \"\"\"\n",
    "    crop the image by a certain ratio, adjust its size, and adjust the pixel value from 0 to 1.\n",
    "    \"\"\"\n",
    "    dicom = pydicom.dcmread(dcm_file)\n",
    "    image = dicom.pixel_array\n",
    "    \n",
    "    h, w = image.shape\n",
    "    left, upper = int(0.1 * w), int (0.1 * h)\n",
    "    right, lower = int (0.9 * w), int(0.9 * h)\n",
    "    image = image[upper:lower, left:right]\n",
    "    \n",
    "    image = scipy.ndimage.zoom(image, (300 / image.shape[0], 300 / image.shape[1]), order=1)\n",
    "    min_p = np.min(image)\n",
    "    max_p = np.max(image)\n",
    "    image = (image - min_p) / (max_p - min_p)\n",
    "    return image"
   ]
  },
  {
   "cell_type": "code",
   "execution_count": 6,
   "metadata": {},
   "outputs": [],
   "source": [
    "def make_dataset(dcm_files, json_files):\n",
    "    \"\"\"\n",
    "    make patient and non-patient data from filename list.\n",
    "    data format: [[pixel_array], age, sex, spinal cord width, spinal cord level, is_patient]\n",
    "    \"\"\"\n",
    "    patient = []\n",
    "    normal = []\n",
    "    if (len(dcm_files) < 6000):\n",
    "        size = len(dcm_files)\n",
    "    else:\n",
    "        size = 6000\n",
    "    for idx in range(size):\n",
    "        info = []\n",
    "        is_patient = 0;\n",
    "        info.append(format_image(dcm_files[idx]))\n",
    "        with open(json_files[idx], 'r') as f:\n",
    "            json_data = json.load(f)\n",
    "        info.append(json_data['annotation']['clinic']['age'])\n",
    "        info.append(json_data['annotation']['clinic']['sex']) \n",
    "        info.append(json_data['annotation']['ANNOTATION_DATA'][0]['m_area'])\n",
    "        for i in range(10):\n",
    "            value = list(json_data[\"annotation\"][\"DATA_CATEGORY\"][i].values())[0]\n",
    "            if not (value == 2 or value == 3):\n",
    "                info.append(i % 5)\n",
    "                info.append(1)\n",
    "                is_patient = 1\n",
    "                flag = -1\n",
    "                break\n",
    "            elif (value == 2):\n",
    "                flag = i\n",
    "                continue\n",
    "            else:\n",
    "                continue\n",
    "        if not flag == -1:\n",
    "            info.append(flag % 5)\n",
    "            info.append(0)\n",
    "        if is_patient:\n",
    "            patient.append(tuple(info))\n",
    "        else:\n",
    "            normal.append(tuple(info))\n",
    "    return patient, normal"
   ]
  },
  {
   "cell_type": "code",
   "execution_count": 7,
   "metadata": {},
   "outputs": [],
   "source": [
    "def get_files(dcm_dir, json_dir):\n",
    "    \"\"\"\n",
    "    remove unnecessary and invalid files\n",
    "    \"\"\"\n",
    "    dcm_files = find_files(dcm_dir, '.dcm')\n",
    "    json_files = find_files(json_dir, '.json')\n",
    "    list_to_remove = []\n",
    "    for file in dcm_files:\n",
    "        dicom = pydicom.dcmread(file, force = True)\n",
    "        if 'SeriesDescription' in dicom:\n",
    "            if not('t2' in dicom.SeriesDescription.lower() and 'sag' not in dicom.SeriesDescription.lower()):\n",
    "                list_to_remove.append(file.split('/')[-1].split('.')[0])\n",
    "        else:\n",
    "            list_to_remove.append(file.split('/')[-1].split('.')[0])\n",
    "    dcm_files = [file for file in dcm_files if file.split('/')[-1].split('.')[0] not in list_to_remove]\n",
    "    json_files = [file for file in json_files if file.split('/')[-1].split('.')[0] not in list_to_remove]\n",
    "    list_to_remove = []\n",
    "\n",
    "    for file in json_files:\n",
    "        with open(file, 'r') as f:\n",
    "            json_data = json.load(f)\n",
    "        if all(int(value) == 3 for entry in json_data[\"annotation\"][\"DATA_CATEGORY\"] for value in entry.values()):\n",
    "            list_to_remove.append(file.split('/')[-1].split('.')[0])\n",
    "        elif not json_data['annotation']['ANNOTATION_DATA']:\n",
    "            list_to_remove.append(file.split('/')[-1].split('.')[0])\n",
    "        else:\n",
    "            continue\n",
    "    json_files = [file for file in json_files if file.split('/')[-1].split('.')[0] not in list_to_remove]\n",
    "    dcm_files = [file for file in dcm_files if file.split('/')[-1].split('.')[0] not in list_to_remove]\n",
    "    return dcm_files, json_files"
   ]
  },
  {
   "cell_type": "code",
   "execution_count": 12,
   "metadata": {},
   "outputs": [],
   "source": [
    "def get_traindata(dcm_dir, json_dir, test_dcm_dir, test_json_dir):\n",
    "    \"\"\"\n",
    "    get train_data, val_data, test_data\n",
    "    Set the parient and non-patient ratio of each data to be equal to the overall ratio\n",
    "    \"\"\"\n",
    "    train_dcm, train_json = get_files(dcm_dir, json_dir)\n",
    "    test_dcm, test_json = get_files(test_dcm_dir, test_json_dir)\n",
    "    \n",
    "    train_patient, train_normal = make_dataset(train_dcm, train_json)\n",
    "    test_patient, test_normal = make_dataset(test_dcm, test_json)\n",
    "    \n",
    "    patient_dataset = train_patient + test_patient\n",
    "    normal_dataset = train_normal + test_normal\n",
    "    \n",
    "    patients_train_val, patients_test = train_test_split(patient_dataset, test_size = 0.2, random_state = 51)\n",
    "    patients_train, patients_val = train_test_split(patients_train_val, test_size = 0.25, random_state = 51)\n",
    "    \n",
    "    normal_train_val, normal_test = train_test_split(normal_dataset, test_size = 0.2, random_state = 51)\n",
    "    normal_train, normal_val = train_test_split(normal_train_val, test_size = 0.25, random_state = 51)\n",
    "    \n",
    "    train_data = patients_train + normal_train\n",
    "    val_data = patients_val + normal_val\n",
    "    test_data = patients_test + normal_test\n",
    "    \n",
    "    random.shuffle(train_data)\n",
    "    random.shuffle(val_data)\n",
    "    random.shuffle(test_data)\n",
    "    \n",
    "    return train_data, val_data, test_data"
   ]
  },
  {
   "cell_type": "code",
   "execution_count": 13,
   "metadata": {},
   "outputs": [],
   "source": [
    "# file path\n",
    "json_dir = '../202101n070/070.퇴행성 척추질환 진단 및 치료를 위한 멀티모달리티 데이터/01.데이터/1.Training/2_라벨링데이터/DLD'\n",
    "dcm_dir = '../202101n070/070.퇴행성 척추질환 진단 및 치료를 위한 멀티모달리티 데이터/01.데이터/1.Training/1_원천데이터/DLD'\n",
    "\n",
    "test_json_dir = '../202101n070/070.퇴행성 척추질환 진단 및 치료를 위한 멀티모달리티 데이터/01.데이터/2.Validation/2_라벨링데이터/DLD'\n",
    "test_dcm_dir = '../202101n070/070.퇴행성 척추질환 진단 및 치료를 위한 멀티모달리티 데이터/01.데이터/2.Validation/1_원천데이터/DLD'"
   ]
  },
  {
   "cell_type": "code",
   "execution_count": 14,
   "metadata": {},
   "outputs": [],
   "source": [
    "train_data, val_data, test_data = get_traindata(dcm_dir, json_dir, test_dcm_dir, test_json_dir)"
   ]
  },
  {
   "cell_type": "code",
   "execution_count": 18,
   "metadata": {},
   "outputs": [],
   "source": [
    "# save data to data.pkl\n",
    "with open('data.pkl', 'wb') as f:\n",
    "    pickle.dump([train_data, val_data, test_data], f)"
   ]
  }
 ],
 "metadata": {
  "kernelspec": {
   "display_name": "Python 3",
   "language": "python",
   "name": "python3"
  },
  "language_info": {
   "codemirror_mode": {
    "name": "ipython",
    "version": 3
   },
   "file_extension": ".py",
   "mimetype": "text/x-python",
   "name": "python",
   "nbconvert_exporter": "python",
   "pygments_lexer": "ipython3",
   "version": "3.6.13"
  }
 },
 "nbformat": 4,
 "nbformat_minor": 2
}
